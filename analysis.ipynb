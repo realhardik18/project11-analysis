{
 "cells": [
  {
   "cell_type": "code",
   "execution_count": 18,
   "id": "c3e7ffba",
   "metadata": {},
   "outputs": [],
   "source": [
    "import json\n",
    "import pandas as pd\n",
    "\n",
    "with open('data.json', 'r') as f:\n",
    "    data = json.load(f)"
   ]
  },
  {
   "cell_type": "code",
   "execution_count": 19,
   "id": "07e314bf",
   "metadata": {},
   "outputs": [],
   "source": [
    "with open('data.csv', 'w') as f:\n",
    "    f.write(\"username,comment,didDonate,currency,amount\\n\")\n",
    "    for item in data:        \n",
    "        comment_content=item['comment'].replace(',',\" \").replace(\"\\n\",\" \").replace(\"\\r\",\" \")\n",
    "        if item['super_thanks_amount']=='':\n",
    "            donated=False\n",
    "            amount=0\n",
    "            currency=None\n",
    "        else:\n",
    "            donated=True\n",
    "            amount=item['super_thanks_amount'][1:].replace(',','')\n",
    "            currency=item['super_thanks_amount'][0]\n",
    "        f.write(\"{},{},{},{},{}\\n\".format(item['author'],comment_content,donated,currency,amount))        "
   ]
  }
 ],
 "metadata": {
  "kernelspec": {
   "display_name": "base",
   "language": "python",
   "name": "python3"
  },
  "language_info": {
   "codemirror_mode": {
    "name": "ipython",
    "version": 3
   },
   "file_extension": ".py",
   "mimetype": "text/x-python",
   "name": "python",
   "nbconvert_exporter": "python",
   "pygments_lexer": "ipython3",
   "version": "3.12.8"
  }
 },
 "nbformat": 4,
 "nbformat_minor": 5
}
