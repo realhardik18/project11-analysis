{
 "cells": [
  {
   "cell_type": "code",
   "execution_count": 18,
   "id": "c3e7ffba",
   "metadata": {},
   "outputs": [],
   "source": [
    "import json\n",
    "import pandas as pd\n",
    "\n",
    "with open('data.json', 'r') as f:\n",
    "    data = json.load(f)"
   ]
  },
  {
   "cell_type": "code",
   "execution_count": 19,
   "id": "07e314bf",
   "metadata": {},
   "outputs": [],
   "source": [
    "with open('data.csv', 'w') as f:\n",
    "    f.write(\"username,comment,didDonate,currency,amount\\n\")\n",
    "    for item in data:        \n",
    "        comment_content=item['comment'].replace(',',\" \").replace(\"\\n\",\" \").replace(\"\\r\",\" \")\n",
    "        if item['super_thanks_amount']=='':\n",
    "            donated=False\n",
    "            amount=0\n",
    "            currency=None\n",
    "        else:\n",
    "            donated=True\n",
    "            amount=item['super_thanks_amount'][1:].replace(',','')\n",
    "            currency=item['super_thanks_amount'][0]\n",
    "        f.write(\"{},{},{},{},{}\\n\".format(item['author'],comment_content,donated,currency,amount))        "
   ]
  },
  {
   "cell_type": "code",
   "execution_count": 27,
   "id": "354895b8",
   "metadata": {},
   "outputs": [
    {
     "data": {
      "text/plain": [
       "{'$', '₹'}"
      ]
     },
     "execution_count": 27,
     "metadata": {},
     "output_type": "execute_result"
    }
   ],
   "source": [
    "df=pd.read_csv('data.csv')\n",
    "set(df['currency'].dropna().tolist())"
   ]
  },
  {
   "cell_type": "code",
   "execution_count": 36,
   "id": "a9282215",
   "metadata": {},
   "outputs": [
    {
     "data": {
      "text/plain": [
       "{'amount_usd': 109.99,\n",
       " 'amount_usd_qty': 3,\n",
       " 'amount_inr': 21576.0,\n",
       " 'amount_inr_qty': 22}"
      ]
     },
     "execution_count": 36,
     "metadata": {},
     "output_type": "execute_result"
    }
   ],
   "source": [
    "donation_stats={\n",
    "    \"amount_usd\":0,\n",
    "    \"amount_usd_qty\":0,\n",
    "    \"amount_inr\":0,    \n",
    "    \"amount_inr_qty\":0\n",
    "}\n",
    "donation_stats['amount_usd']=sum(df[df['currency']==\"$\"]['amount'].tolist())\n",
    "donation_stats['amount_usd_qty']=len(df[df['currency']==\"$\"]['amount'].tolist())\n",
    "donation_stats['amount_inr']=sum(df[df['currency']==\"₹\"]['amount'].tolist())\n",
    "donation_stats['amount_inr_qty']=len(df[df['currency']==\"₹\"]['amount'].tolist())\n",
    "donation_stats"
   ]
  },
  {
   "cell_type": "code",
   "execution_count": 43,
   "id": "3ee98068",
   "metadata": {},
   "outputs": [
    {
     "name": "stdout",
     "output_type": "stream",
     "text": [
      "₹30968.05,$362.67\n"
     ]
    }
   ],
   "source": [
    "total_inr=donation_stats['amount_usd']*85.39+donation_stats['amount_inr']\n",
    "total_usd=donation_stats['amount_usd']+donation_stats['amount_inr']/85.39\n",
    "print(f\"₹{total_inr:.2f},${total_usd:.2f}\")"
   ]
  },
  {
   "cell_type": "code",
   "execution_count": 54,
   "id": "9ffa8bd2",
   "metadata": {},
   "outputs": [
    {
     "data": {
      "text/plain": [
       "count    1098.000000\n",
       "mean        0.132378\n",
       "std         0.326732\n",
       "min        -1.000000\n",
       "25%         0.000000\n",
       "50%         0.056004\n",
       "75%         0.308949\n",
       "max         1.000000\n",
       "dtype: float64"
      ]
     },
     "execution_count": 54,
     "metadata": {},
     "output_type": "execute_result"
    }
   ],
   "source": [
    "from textblob import TextBlob\n",
    "\n",
    "sentiment_scores=[]\n",
    "for index,comment in enumerate(df['comment']):    \n",
    "    blob=TextBlob(str(comment))\n",
    "    sentiment_score=blob.sentiment.polarity    \n",
    "    sentiment_scores.append(sentiment_score)\n",
    "sentiment_scores=pd.Series(sentiment_scores)\n",
    "sentiment_scores.describe()"
   ]
  }
 ],
 "metadata": {
  "kernelspec": {
   "display_name": "base",
   "language": "python",
   "name": "python3"
  },
  "language_info": {
   "codemirror_mode": {
    "name": "ipython",
    "version": 3
   },
   "file_extension": ".py",
   "mimetype": "text/x-python",
   "name": "python",
   "nbconvert_exporter": "python",
   "pygments_lexer": "ipython3",
   "version": "3.12.8"
  }
 },
 "nbformat": 4,
 "nbformat_minor": 5
}
